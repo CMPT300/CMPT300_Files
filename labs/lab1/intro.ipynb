{
 "cells": [
  {
   "cell_type": "markdown",
   "metadata": {},
   "source": [
    "Each individual student will be required to report individual logs for each assignment, describing:\n",
    "\n",
    "* time spent driving, observing, and working alone\n",
    "* confidence in solution\n",
    "* satisfaction with the experience.\n",
    "\n",
    "Each student will also be required to rate their partner on a scale of 1-20 for each of the following questions:\n",
    "* Did your partner read preparatory materials before coming to the scheduled lab?\n",
    "* Did your partner do his or her fair share of the work?\n",
    "* Did your partner cooperatively follow the pair programming model (rotating roles of driver and navigator)?\n",
    "* Did your partner make contributions to the completion of the lab assignment?\n",
    "* Did your partner cooperate?\n",
    "\n",
    "A good partner would be rated 20 points for all five categories, for a total score of 100 points."
   ]
  },
  {
   "cell_type": "markdown",
   "metadata": {},
   "source": [
    "##  List\n",
    "Take a list, say for example this one: a = [1, 1, 2, 3, 5, 8, 13, 21, 34, 55, 89]. Write a program that prints out all the elements of the list that are less than 5.\n",
    "\n",
    "Hint: Instead of printing the elements one by one, make a new list that has all the elements less than 5 from this list in it and print out this new list.\n",
    "\n",
    "Extra: Write this in one line of Python. [(list comprehensions)](https://docs.python.org/2/tutorial/datastructures.html#list-comprehensions)"
   ]
  },
  {
   "cell_type": "code",
   "execution_count": null,
   "metadata": {
    "collapsed": true
   },
   "outputs": [],
   "source": [
    "\"\"\"\n",
    "Write your codes here:\n",
    "\"\"\"\n"
   ]
  },
  {
   "cell_type": "markdown",
   "metadata": {},
   "source": [
    "##  List\n",
    "Take a list, say for example this one: a = [21, 34, 55, 89]. Write a one line code to reverse the order of this list as [89, 55,34,21]  \n",
    "\n",
    "Hint: end of a list."
   ]
  },
  {
   "cell_type": "code",
   "execution_count": null,
   "metadata": {
    "collapsed": true
   },
   "outputs": [],
   "source": [
    "\"\"\"\n",
    "Write your codes here:\n",
    "\"\"\"\n"
   ]
  },
  {
   "cell_type": "markdown",
   "metadata": {},
   "source": [
    "## String\n",
    "Reverse words order.\n",
    "\n",
    "Suppose the input string s=\"Welcome to Salt Lake City\". Write a one line code to reverse the words order as \"City Lake Salt to Welcome\".\n",
    "\n",
    "Hint: use join and split."
   ]
  },
  {
   "cell_type": "code",
   "execution_count": null,
   "metadata": {
    "collapsed": true
   },
   "outputs": [],
   "source": [
    "\"\"\"\n",
    "Write your codes here:\n",
    "\"\"\"\n"
   ]
  },
  {
   "cell_type": "markdown",
   "metadata": {},
   "source": [
    "## Set\n",
    "Remove duplicates of a list\n",
    "\n",
    "Given a list a = [1,1,2,2,3,5,6,7,5]. Write a one line code to remove all dulicates of a. The output should be [3,6,7]\n",
    "\n",
    "Hint: use set() and list()"
   ]
  },
  {
   "cell_type": "code",
   "execution_count": null,
   "metadata": {
    "collapsed": true
   },
   "outputs": [],
   "source": [
    "\"\"\"\n",
    "Write your codes here:\n",
    "\"\"\"\n"
   ]
  },
  {
   "cell_type": "markdown",
   "metadata": {},
   "source": [
    "# Practice. Enjoy the Python!\n",
    "\n",
    "Rotate an array of n elements to the right by k steps.\n",
    "\n",
    "For example, with n = 7 and k = 3, the array [1,2,3,4,5,6,7] is rotated to [5,6,7,1,2,3,4].\n",
    "\n",
    "Try to write your python code as simple as possible!"
   ]
  },
  {
   "cell_type": "code",
   "execution_count": null,
   "metadata": {
    "collapsed": true
   },
   "outputs": [],
   "source": [
    "\"\"\"\n",
    "Write your codes here:\n",
    "\"\"\"\n"
   ]
  }
 ],
 "metadata": {
  "anaconda-cloud": {},
  "kernelspec": {
   "display_name": "Python [Root]",
   "language": "python",
   "name": "Python [Root]"
  },
  "language_info": {
   "codemirror_mode": {
    "name": "ipython",
    "version": 2
   },
   "file_extension": ".py",
   "mimetype": "text/x-python",
   "name": "python",
   "nbconvert_exporter": "python",
   "pygments_lexer": "ipython2",
   "version": "2.7.12"
  }
 },
 "nbformat": 4,
 "nbformat_minor": 0
}
